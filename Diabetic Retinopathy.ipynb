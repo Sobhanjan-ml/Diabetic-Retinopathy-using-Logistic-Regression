{
 "cells": [
  {
   "cell_type": "markdown",
   "metadata": {},
   "source": [
    "# Importing Liabraries"
   ]
  },
  {
   "cell_type": "code",
   "execution_count": 38,
   "metadata": {},
   "outputs": [],
   "source": [
    "import numpy as np\n",
    "import pandas as pd\n",
    "import matplotlib.pyplot as plt\n",
    "import seaborn as sns"
   ]
  },
  {
   "cell_type": "markdown",
   "metadata": {},
   "source": [
    "# Importing Dataset"
   ]
  },
  {
   "cell_type": "code",
   "execution_count": 39,
   "metadata": {},
   "outputs": [],
   "source": [
    "dataset = pd.read_csv('Diabetic-Retinopathy.csv')"
   ]
  },
  {
   "cell_type": "code",
   "execution_count": 40,
   "metadata": {
    "collapsed": true
   },
   "outputs": [
    {
     "data": {
      "text/html": [
       "<div>\n",
       "<style scoped>\n",
       "    .dataframe tbody tr th:only-of-type {\n",
       "        vertical-align: middle;\n",
       "    }\n",
       "\n",
       "    .dataframe tbody tr th {\n",
       "        vertical-align: top;\n",
       "    }\n",
       "\n",
       "    .dataframe thead th {\n",
       "        text-align: right;\n",
       "    }\n",
       "</style>\n",
       "<table border=\"1\" class=\"dataframe\">\n",
       "  <thead>\n",
       "    <tr style=\"text-align: right;\">\n",
       "      <th></th>\n",
       "      <th>Unnamed: 0</th>\n",
       "      <th>id</th>\n",
       "      <th>laser</th>\n",
       "      <th>age</th>\n",
       "      <th>eye</th>\n",
       "      <th>trt</th>\n",
       "      <th>risk</th>\n",
       "      <th>time</th>\n",
       "      <th>status</th>\n",
       "    </tr>\n",
       "  </thead>\n",
       "  <tbody>\n",
       "    <tr>\n",
       "      <td>0</td>\n",
       "      <td>1</td>\n",
       "      <td>5</td>\n",
       "      <td>argon</td>\n",
       "      <td>28</td>\n",
       "      <td>left</td>\n",
       "      <td>0</td>\n",
       "      <td>9</td>\n",
       "      <td>46.23</td>\n",
       "      <td>0</td>\n",
       "    </tr>\n",
       "    <tr>\n",
       "      <td>1</td>\n",
       "      <td>2</td>\n",
       "      <td>5</td>\n",
       "      <td>argon</td>\n",
       "      <td>28</td>\n",
       "      <td>right</td>\n",
       "      <td>1</td>\n",
       "      <td>9</td>\n",
       "      <td>46.23</td>\n",
       "      <td>0</td>\n",
       "    </tr>\n",
       "    <tr>\n",
       "      <td>2</td>\n",
       "      <td>3</td>\n",
       "      <td>14</td>\n",
       "      <td>xenon</td>\n",
       "      <td>12</td>\n",
       "      <td>left</td>\n",
       "      <td>1</td>\n",
       "      <td>8</td>\n",
       "      <td>42.50</td>\n",
       "      <td>0</td>\n",
       "    </tr>\n",
       "    <tr>\n",
       "      <td>3</td>\n",
       "      <td>4</td>\n",
       "      <td>14</td>\n",
       "      <td>xenon</td>\n",
       "      <td>12</td>\n",
       "      <td>right</td>\n",
       "      <td>0</td>\n",
       "      <td>6</td>\n",
       "      <td>31.30</td>\n",
       "      <td>1</td>\n",
       "    </tr>\n",
       "    <tr>\n",
       "      <td>4</td>\n",
       "      <td>5</td>\n",
       "      <td>16</td>\n",
       "      <td>xenon</td>\n",
       "      <td>9</td>\n",
       "      <td>left</td>\n",
       "      <td>1</td>\n",
       "      <td>11</td>\n",
       "      <td>42.27</td>\n",
       "      <td>0</td>\n",
       "    </tr>\n",
       "  </tbody>\n",
       "</table>\n",
       "</div>"
      ],
      "text/plain": [
       "   Unnamed: 0  id  laser  age    eye  trt  risk   time  status\n",
       "0           1   5  argon   28   left    0     9  46.23       0\n",
       "1           2   5  argon   28  right    1     9  46.23       0\n",
       "2           3  14  xenon   12   left    1     8  42.50       0\n",
       "3           4  14  xenon   12  right    0     6  31.30       1\n",
       "4           5  16  xenon    9   left    1    11  42.27       0"
      ]
     },
     "execution_count": 40,
     "metadata": {},
     "output_type": "execute_result"
    }
   ],
   "source": [
    "dataset.head()"
   ]
  },
  {
   "cell_type": "raw",
   "metadata": {},
   "source": [
    "status-\n",
    "0 = no\n",
    "1 = yes"
   ]
  },
  {
   "cell_type": "markdown",
   "metadata": {},
   "source": [
    "# Checking for null-values and Data types"
   ]
  },
  {
   "cell_type": "code",
   "execution_count": 41,
   "metadata": {
    "collapsed": true
   },
   "outputs": [
    {
     "data": {
      "text/plain": [
       "Unnamed: 0    False\n",
       "id            False\n",
       "laser         False\n",
       "age           False\n",
       "eye           False\n",
       "trt           False\n",
       "risk          False\n",
       "time          False\n",
       "status        False\n",
       "dtype: bool"
      ]
     },
     "execution_count": 41,
     "metadata": {},
     "output_type": "execute_result"
    }
   ],
   "source": [
    "dataset.isnull().any()"
   ]
  },
  {
   "cell_type": "code",
   "execution_count": 42,
   "metadata": {
    "collapsed": true
   },
   "outputs": [
    {
     "data": {
      "text/plain": [
       "Unnamed: 0      int64\n",
       "id              int64\n",
       "laser          object\n",
       "age             int64\n",
       "eye            object\n",
       "trt             int64\n",
       "risk            int64\n",
       "time          float64\n",
       "status          int64\n",
       "dtype: object"
      ]
     },
     "execution_count": 42,
     "metadata": {},
     "output_type": "execute_result"
    }
   ],
   "source": [
    "dataset.dtypes"
   ]
  },
  {
   "cell_type": "markdown",
   "metadata": {},
   "source": [
    "# Checking Information "
   ]
  },
  {
   "cell_type": "code",
   "execution_count": 43,
   "metadata": {
    "collapsed": true
   },
   "outputs": [
    {
     "name": "stdout",
     "output_type": "stream",
     "text": [
      "<class 'pandas.core.frame.DataFrame'>\n",
      "RangeIndex: 394 entries, 0 to 393\n",
      "Data columns (total 9 columns):\n",
      "Unnamed: 0    394 non-null int64\n",
      "id            394 non-null int64\n",
      "laser         394 non-null object\n",
      "age           394 non-null int64\n",
      "eye           394 non-null object\n",
      "trt           394 non-null int64\n",
      "risk          394 non-null int64\n",
      "time          394 non-null float64\n",
      "status        394 non-null int64\n",
      "dtypes: float64(1), int64(6), object(2)\n",
      "memory usage: 27.8+ KB\n"
     ]
    }
   ],
   "source": [
    "dataset.info()"
   ]
  },
  {
   "cell_type": "code",
   "execution_count": 44,
   "metadata": {
    "collapsed": true
   },
   "outputs": [
    {
     "data": {
      "text/html": [
       "<div>\n",
       "<style scoped>\n",
       "    .dataframe tbody tr th:only-of-type {\n",
       "        vertical-align: middle;\n",
       "    }\n",
       "\n",
       "    .dataframe tbody tr th {\n",
       "        vertical-align: top;\n",
       "    }\n",
       "\n",
       "    .dataframe thead th {\n",
       "        text-align: right;\n",
       "    }\n",
       "</style>\n",
       "<table border=\"1\" class=\"dataframe\">\n",
       "  <thead>\n",
       "    <tr style=\"text-align: right;\">\n",
       "      <th></th>\n",
       "      <th>Unnamed: 0</th>\n",
       "      <th>id</th>\n",
       "      <th>age</th>\n",
       "      <th>trt</th>\n",
       "      <th>risk</th>\n",
       "      <th>time</th>\n",
       "      <th>status</th>\n",
       "    </tr>\n",
       "  </thead>\n",
       "  <tbody>\n",
       "    <tr>\n",
       "      <td>count</td>\n",
       "      <td>394.000000</td>\n",
       "      <td>394.000000</td>\n",
       "      <td>394.000000</td>\n",
       "      <td>394.000000</td>\n",
       "      <td>394.000000</td>\n",
       "      <td>394.000000</td>\n",
       "      <td>394.000000</td>\n",
       "    </tr>\n",
       "    <tr>\n",
       "      <td>mean</td>\n",
       "      <td>197.500000</td>\n",
       "      <td>873.203046</td>\n",
       "      <td>20.781726</td>\n",
       "      <td>0.500000</td>\n",
       "      <td>9.697970</td>\n",
       "      <td>35.579289</td>\n",
       "      <td>0.393401</td>\n",
       "    </tr>\n",
       "    <tr>\n",
       "      <td>std</td>\n",
       "      <td>113.882249</td>\n",
       "      <td>495.523410</td>\n",
       "      <td>14.812074</td>\n",
       "      <td>0.500636</td>\n",
       "      <td>1.475033</td>\n",
       "      <td>21.355896</td>\n",
       "      <td>0.489126</td>\n",
       "    </tr>\n",
       "    <tr>\n",
       "      <td>min</td>\n",
       "      <td>1.000000</td>\n",
       "      <td>5.000000</td>\n",
       "      <td>1.000000</td>\n",
       "      <td>0.000000</td>\n",
       "      <td>6.000000</td>\n",
       "      <td>0.300000</td>\n",
       "      <td>0.000000</td>\n",
       "    </tr>\n",
       "    <tr>\n",
       "      <td>25%</td>\n",
       "      <td>99.250000</td>\n",
       "      <td>480.000000</td>\n",
       "      <td>10.000000</td>\n",
       "      <td>0.000000</td>\n",
       "      <td>9.000000</td>\n",
       "      <td>13.977500</td>\n",
       "      <td>0.000000</td>\n",
       "    </tr>\n",
       "    <tr>\n",
       "      <td>50%</td>\n",
       "      <td>197.500000</td>\n",
       "      <td>834.000000</td>\n",
       "      <td>16.000000</td>\n",
       "      <td>0.500000</td>\n",
       "      <td>10.000000</td>\n",
       "      <td>38.800000</td>\n",
       "      <td>0.000000</td>\n",
       "    </tr>\n",
       "    <tr>\n",
       "      <td>75%</td>\n",
       "      <td>295.750000</td>\n",
       "      <td>1296.000000</td>\n",
       "      <td>30.000000</td>\n",
       "      <td>1.000000</td>\n",
       "      <td>11.000000</td>\n",
       "      <td>54.252500</td>\n",
       "      <td>1.000000</td>\n",
       "    </tr>\n",
       "    <tr>\n",
       "      <td>max</td>\n",
       "      <td>394.000000</td>\n",
       "      <td>1749.000000</td>\n",
       "      <td>58.000000</td>\n",
       "      <td>1.000000</td>\n",
       "      <td>12.000000</td>\n",
       "      <td>74.970000</td>\n",
       "      <td>1.000000</td>\n",
       "    </tr>\n",
       "  </tbody>\n",
       "</table>\n",
       "</div>"
      ],
      "text/plain": [
       "       Unnamed: 0           id         age         trt        risk  \\\n",
       "count  394.000000   394.000000  394.000000  394.000000  394.000000   \n",
       "mean   197.500000   873.203046   20.781726    0.500000    9.697970   \n",
       "std    113.882249   495.523410   14.812074    0.500636    1.475033   \n",
       "min      1.000000     5.000000    1.000000    0.000000    6.000000   \n",
       "25%     99.250000   480.000000   10.000000    0.000000    9.000000   \n",
       "50%    197.500000   834.000000   16.000000    0.500000   10.000000   \n",
       "75%    295.750000  1296.000000   30.000000    1.000000   11.000000   \n",
       "max    394.000000  1749.000000   58.000000    1.000000   12.000000   \n",
       "\n",
       "             time      status  \n",
       "count  394.000000  394.000000  \n",
       "mean    35.579289    0.393401  \n",
       "std     21.355896    0.489126  \n",
       "min      0.300000    0.000000  \n",
       "25%     13.977500    0.000000  \n",
       "50%     38.800000    0.000000  \n",
       "75%     54.252500    1.000000  \n",
       "max     74.970000    1.000000  "
      ]
     },
     "execution_count": 44,
     "metadata": {},
     "output_type": "execute_result"
    }
   ],
   "source": [
    "dataset.describe()"
   ]
  },
  {
   "cell_type": "markdown",
   "metadata": {},
   "source": [
    "# Importing Label Encoder to treat Categorical values"
   ]
  },
  {
   "cell_type": "code",
   "execution_count": 45,
   "metadata": {},
   "outputs": [],
   "source": [
    "from sklearn.preprocessing import LabelEncoder"
   ]
  },
  {
   "cell_type": "code",
   "execution_count": 46,
   "metadata": {},
   "outputs": [],
   "source": [
    "lb = LabelEncoder()"
   ]
  },
  {
   "cell_type": "code",
   "execution_count": 47,
   "metadata": {},
   "outputs": [
    {
     "data": {
      "text/plain": [
       "right    197\n",
       "left     197\n",
       "Name: eye, dtype: int64"
      ]
     },
     "execution_count": 47,
     "metadata": {},
     "output_type": "execute_result"
    }
   ],
   "source": [
    "dataset['eye'].value_counts()"
   ]
  },
  {
   "cell_type": "code",
   "execution_count": 48,
   "metadata": {},
   "outputs": [],
   "source": [
    "dataset['eye'] = lb.fit_transform(dataset['eye'])"
   ]
  },
  {
   "cell_type": "code",
   "execution_count": 49,
   "metadata": {},
   "outputs": [
    {
     "data": {
      "text/plain": [
       "1    197\n",
       "0    197\n",
       "Name: eye, dtype: int64"
      ]
     },
     "execution_count": 49,
     "metadata": {},
     "output_type": "execute_result"
    }
   ],
   "source": [
    "dataset['eye'].value_counts()"
   ]
  },
  {
   "cell_type": "raw",
   "metadata": {},
   "source": [
    "right = 1\n",
    "left = 0"
   ]
  },
  {
   "cell_type": "code",
   "execution_count": 50,
   "metadata": {},
   "outputs": [
    {
     "data": {
      "text/plain": [
       "xenon    228\n",
       "argon    166\n",
       "Name: laser, dtype: int64"
      ]
     },
     "execution_count": 50,
     "metadata": {},
     "output_type": "execute_result"
    }
   ],
   "source": [
    "dataset['laser'].value_counts()"
   ]
  },
  {
   "cell_type": "code",
   "execution_count": 51,
   "metadata": {},
   "outputs": [],
   "source": [
    "dataset['laser'] = lb.fit_transform(dataset['laser'])"
   ]
  },
  {
   "cell_type": "code",
   "execution_count": 52,
   "metadata": {},
   "outputs": [
    {
     "data": {
      "text/plain": [
       "1    228\n",
       "0    166\n",
       "Name: laser, dtype: int64"
      ]
     },
     "execution_count": 52,
     "metadata": {},
     "output_type": "execute_result"
    }
   ],
   "source": [
    "dataset['laser'].value_counts()"
   ]
  },
  {
   "cell_type": "raw",
   "metadata": {},
   "source": [
    "xenon = 1\n",
    "argon = 0"
   ]
  },
  {
   "cell_type": "code",
   "execution_count": 53,
   "metadata": {
    "collapsed": true
   },
   "outputs": [
    {
     "data": {
      "text/html": [
       "<div>\n",
       "<style scoped>\n",
       "    .dataframe tbody tr th:only-of-type {\n",
       "        vertical-align: middle;\n",
       "    }\n",
       "\n",
       "    .dataframe tbody tr th {\n",
       "        vertical-align: top;\n",
       "    }\n",
       "\n",
       "    .dataframe thead th {\n",
       "        text-align: right;\n",
       "    }\n",
       "</style>\n",
       "<table border=\"1\" class=\"dataframe\">\n",
       "  <thead>\n",
       "    <tr style=\"text-align: right;\">\n",
       "      <th></th>\n",
       "      <th>Unnamed: 0</th>\n",
       "      <th>id</th>\n",
       "      <th>laser</th>\n",
       "      <th>age</th>\n",
       "      <th>eye</th>\n",
       "      <th>trt</th>\n",
       "      <th>risk</th>\n",
       "      <th>time</th>\n",
       "      <th>status</th>\n",
       "    </tr>\n",
       "  </thead>\n",
       "  <tbody>\n",
       "    <tr>\n",
       "      <td>0</td>\n",
       "      <td>1</td>\n",
       "      <td>5</td>\n",
       "      <td>0</td>\n",
       "      <td>28</td>\n",
       "      <td>0</td>\n",
       "      <td>0</td>\n",
       "      <td>9</td>\n",
       "      <td>46.23</td>\n",
       "      <td>0</td>\n",
       "    </tr>\n",
       "    <tr>\n",
       "      <td>1</td>\n",
       "      <td>2</td>\n",
       "      <td>5</td>\n",
       "      <td>0</td>\n",
       "      <td>28</td>\n",
       "      <td>1</td>\n",
       "      <td>1</td>\n",
       "      <td>9</td>\n",
       "      <td>46.23</td>\n",
       "      <td>0</td>\n",
       "    </tr>\n",
       "    <tr>\n",
       "      <td>2</td>\n",
       "      <td>3</td>\n",
       "      <td>14</td>\n",
       "      <td>1</td>\n",
       "      <td>12</td>\n",
       "      <td>0</td>\n",
       "      <td>1</td>\n",
       "      <td>8</td>\n",
       "      <td>42.50</td>\n",
       "      <td>0</td>\n",
       "    </tr>\n",
       "    <tr>\n",
       "      <td>3</td>\n",
       "      <td>4</td>\n",
       "      <td>14</td>\n",
       "      <td>1</td>\n",
       "      <td>12</td>\n",
       "      <td>1</td>\n",
       "      <td>0</td>\n",
       "      <td>6</td>\n",
       "      <td>31.30</td>\n",
       "      <td>1</td>\n",
       "    </tr>\n",
       "    <tr>\n",
       "      <td>4</td>\n",
       "      <td>5</td>\n",
       "      <td>16</td>\n",
       "      <td>1</td>\n",
       "      <td>9</td>\n",
       "      <td>0</td>\n",
       "      <td>1</td>\n",
       "      <td>11</td>\n",
       "      <td>42.27</td>\n",
       "      <td>0</td>\n",
       "    </tr>\n",
       "    <tr>\n",
       "      <td>...</td>\n",
       "      <td>...</td>\n",
       "      <td>...</td>\n",
       "      <td>...</td>\n",
       "      <td>...</td>\n",
       "      <td>...</td>\n",
       "      <td>...</td>\n",
       "      <td>...</td>\n",
       "      <td>...</td>\n",
       "      <td>...</td>\n",
       "    </tr>\n",
       "    <tr>\n",
       "      <td>389</td>\n",
       "      <td>390</td>\n",
       "      <td>1727</td>\n",
       "      <td>0</td>\n",
       "      <td>33</td>\n",
       "      <td>1</td>\n",
       "      <td>0</td>\n",
       "      <td>10</td>\n",
       "      <td>2.90</td>\n",
       "      <td>1</td>\n",
       "    </tr>\n",
       "    <tr>\n",
       "      <td>390</td>\n",
       "      <td>391</td>\n",
       "      <td>1746</td>\n",
       "      <td>1</td>\n",
       "      <td>3</td>\n",
       "      <td>0</td>\n",
       "      <td>1</td>\n",
       "      <td>10</td>\n",
       "      <td>45.90</td>\n",
       "      <td>0</td>\n",
       "    </tr>\n",
       "    <tr>\n",
       "      <td>391</td>\n",
       "      <td>392</td>\n",
       "      <td>1746</td>\n",
       "      <td>1</td>\n",
       "      <td>3</td>\n",
       "      <td>1</td>\n",
       "      <td>0</td>\n",
       "      <td>10</td>\n",
       "      <td>1.43</td>\n",
       "      <td>1</td>\n",
       "    </tr>\n",
       "    <tr>\n",
       "      <td>392</td>\n",
       "      <td>393</td>\n",
       "      <td>1749</td>\n",
       "      <td>0</td>\n",
       "      <td>32</td>\n",
       "      <td>0</td>\n",
       "      <td>1</td>\n",
       "      <td>9</td>\n",
       "      <td>41.93</td>\n",
       "      <td>0</td>\n",
       "    </tr>\n",
       "    <tr>\n",
       "      <td>393</td>\n",
       "      <td>394</td>\n",
       "      <td>1749</td>\n",
       "      <td>0</td>\n",
       "      <td>32</td>\n",
       "      <td>1</td>\n",
       "      <td>0</td>\n",
       "      <td>9</td>\n",
       "      <td>41.93</td>\n",
       "      <td>0</td>\n",
       "    </tr>\n",
       "  </tbody>\n",
       "</table>\n",
       "<p>394 rows × 9 columns</p>\n",
       "</div>"
      ],
      "text/plain": [
       "     Unnamed: 0    id  laser  age  eye  trt  risk   time  status\n",
       "0             1     5      0   28    0    0     9  46.23       0\n",
       "1             2     5      0   28    1    1     9  46.23       0\n",
       "2             3    14      1   12    0    1     8  42.50       0\n",
       "3             4    14      1   12    1    0     6  31.30       1\n",
       "4             5    16      1    9    0    1    11  42.27       0\n",
       "..          ...   ...    ...  ...  ...  ...   ...    ...     ...\n",
       "389         390  1727      0   33    1    0    10   2.90       1\n",
       "390         391  1746      1    3    0    1    10  45.90       0\n",
       "391         392  1746      1    3    1    0    10   1.43       1\n",
       "392         393  1749      0   32    0    1     9  41.93       0\n",
       "393         394  1749      0   32    1    0     9  41.93       0\n",
       "\n",
       "[394 rows x 9 columns]"
      ]
     },
     "execution_count": 53,
     "metadata": {},
     "output_type": "execute_result"
    }
   ],
   "source": [
    "dataset"
   ]
  },
  {
   "cell_type": "markdown",
   "metadata": {},
   "source": [
    "# Checking Correlation"
   ]
  },
  {
   "cell_type": "code",
   "execution_count": 54,
   "metadata": {
    "collapsed": true
   },
   "outputs": [
    {
     "data": {
      "text/html": [
       "<div>\n",
       "<style scoped>\n",
       "    .dataframe tbody tr th:only-of-type {\n",
       "        vertical-align: middle;\n",
       "    }\n",
       "\n",
       "    .dataframe tbody tr th {\n",
       "        vertical-align: top;\n",
       "    }\n",
       "\n",
       "    .dataframe thead th {\n",
       "        text-align: right;\n",
       "    }\n",
       "</style>\n",
       "<table border=\"1\" class=\"dataframe\">\n",
       "  <thead>\n",
       "    <tr style=\"text-align: right;\">\n",
       "      <th></th>\n",
       "      <th>Unnamed: 0</th>\n",
       "      <th>id</th>\n",
       "      <th>laser</th>\n",
       "      <th>age</th>\n",
       "      <th>eye</th>\n",
       "      <th>trt</th>\n",
       "      <th>risk</th>\n",
       "      <th>time</th>\n",
       "      <th>status</th>\n",
       "    </tr>\n",
       "  </thead>\n",
       "  <tbody>\n",
       "    <tr>\n",
       "      <td>Unnamed: 0</td>\n",
       "      <td>1.000000</td>\n",
       "      <td>0.998961</td>\n",
       "      <td>-0.079721</td>\n",
       "      <td>0.005105</td>\n",
       "      <td>0.004396</td>\n",
       "      <td>0.000424</td>\n",
       "      <td>0.018791</td>\n",
       "      <td>0.103928</td>\n",
       "      <td>-0.108880</td>\n",
       "    </tr>\n",
       "    <tr>\n",
       "      <td>id</td>\n",
       "      <td>0.998961</td>\n",
       "      <td>1.000000</td>\n",
       "      <td>-0.083925</td>\n",
       "      <td>0.010461</td>\n",
       "      <td>0.000000</td>\n",
       "      <td>0.000000</td>\n",
       "      <td>0.016439</td>\n",
       "      <td>0.106133</td>\n",
       "      <td>-0.107739</td>\n",
       "    </tr>\n",
       "    <tr>\n",
       "      <td>laser</td>\n",
       "      <td>-0.079721</td>\n",
       "      <td>-0.083925</td>\n",
       "      <td>1.000000</td>\n",
       "      <td>-0.837478</td>\n",
       "      <td>0.000000</td>\n",
       "      <td>0.000000</td>\n",
       "      <td>0.037903</td>\n",
       "      <td>-0.036942</td>\n",
       "      <td>-0.028362</td>\n",
       "    </tr>\n",
       "    <tr>\n",
       "      <td>age</td>\n",
       "      <td>0.005105</td>\n",
       "      <td>0.010461</td>\n",
       "      <td>-0.837478</td>\n",
       "      <td>1.000000</td>\n",
       "      <td>0.000000</td>\n",
       "      <td>0.000000</td>\n",
       "      <td>-0.044486</td>\n",
       "      <td>-0.002297</td>\n",
       "      <td>0.036116</td>\n",
       "    </tr>\n",
       "    <tr>\n",
       "      <td>eye</td>\n",
       "      <td>0.004396</td>\n",
       "      <td>0.000000</td>\n",
       "      <td>0.000000</td>\n",
       "      <td>0.000000</td>\n",
       "      <td>1.000000</td>\n",
       "      <td>0.096447</td>\n",
       "      <td>0.056855</td>\n",
       "      <td>-0.061648</td>\n",
       "      <td>0.088325</td>\n",
       "    </tr>\n",
       "    <tr>\n",
       "      <td>trt</td>\n",
       "      <td>0.000424</td>\n",
       "      <td>0.000000</td>\n",
       "      <td>0.000000</td>\n",
       "      <td>0.000000</td>\n",
       "      <td>0.096447</td>\n",
       "      <td>1.000000</td>\n",
       "      <td>-0.036180</td>\n",
       "      <td>0.154323</td>\n",
       "      <td>-0.244193</td>\n",
       "    </tr>\n",
       "    <tr>\n",
       "      <td>risk</td>\n",
       "      <td>0.018791</td>\n",
       "      <td>0.016439</td>\n",
       "      <td>0.037903</td>\n",
       "      <td>-0.044486</td>\n",
       "      <td>0.056855</td>\n",
       "      <td>-0.036180</td>\n",
       "      <td>1.000000</td>\n",
       "      <td>-0.109343</td>\n",
       "      <td>0.122786</td>\n",
       "    </tr>\n",
       "    <tr>\n",
       "      <td>time</td>\n",
       "      <td>0.103928</td>\n",
       "      <td>0.106133</td>\n",
       "      <td>-0.036942</td>\n",
       "      <td>-0.002297</td>\n",
       "      <td>-0.061648</td>\n",
       "      <td>0.154323</td>\n",
       "      <td>-0.109343</td>\n",
       "      <td>1.000000</td>\n",
       "      <td>-0.637484</td>\n",
       "    </tr>\n",
       "    <tr>\n",
       "      <td>status</td>\n",
       "      <td>-0.108880</td>\n",
       "      <td>-0.107739</td>\n",
       "      <td>-0.028362</td>\n",
       "      <td>0.036116</td>\n",
       "      <td>0.088325</td>\n",
       "      <td>-0.244193</td>\n",
       "      <td>0.122786</td>\n",
       "      <td>-0.637484</td>\n",
       "      <td>1.000000</td>\n",
       "    </tr>\n",
       "  </tbody>\n",
       "</table>\n",
       "</div>"
      ],
      "text/plain": [
       "            Unnamed: 0        id     laser       age       eye       trt  \\\n",
       "Unnamed: 0    1.000000  0.998961 -0.079721  0.005105  0.004396  0.000424   \n",
       "id            0.998961  1.000000 -0.083925  0.010461  0.000000  0.000000   \n",
       "laser        -0.079721 -0.083925  1.000000 -0.837478  0.000000  0.000000   \n",
       "age           0.005105  0.010461 -0.837478  1.000000  0.000000  0.000000   \n",
       "eye           0.004396  0.000000  0.000000  0.000000  1.000000  0.096447   \n",
       "trt           0.000424  0.000000  0.000000  0.000000  0.096447  1.000000   \n",
       "risk          0.018791  0.016439  0.037903 -0.044486  0.056855 -0.036180   \n",
       "time          0.103928  0.106133 -0.036942 -0.002297 -0.061648  0.154323   \n",
       "status       -0.108880 -0.107739 -0.028362  0.036116  0.088325 -0.244193   \n",
       "\n",
       "                risk      time    status  \n",
       "Unnamed: 0  0.018791  0.103928 -0.108880  \n",
       "id          0.016439  0.106133 -0.107739  \n",
       "laser       0.037903 -0.036942 -0.028362  \n",
       "age        -0.044486 -0.002297  0.036116  \n",
       "eye         0.056855 -0.061648  0.088325  \n",
       "trt        -0.036180  0.154323 -0.244193  \n",
       "risk        1.000000 -0.109343  0.122786  \n",
       "time       -0.109343  1.000000 -0.637484  \n",
       "status      0.122786 -0.637484  1.000000  "
      ]
     },
     "execution_count": 54,
     "metadata": {},
     "output_type": "execute_result"
    }
   ],
   "source": [
    "dataset.corr()"
   ]
  },
  {
   "cell_type": "code",
   "execution_count": 55,
   "metadata": {
    "collapsed": true
   },
   "outputs": [
    {
     "data": {
      "text/plain": [
       "<matplotlib.axes._subplots.AxesSubplot at 0x14159da6c08>"
      ]
     },
     "execution_count": 55,
     "metadata": {},
     "output_type": "execute_result"
    },
    {
     "data": {
      "image/png": "[encoded data removed]",
      "text/plain": [
       "<Figure size 432x288 with 2 Axes>"
      ]
     },
     "metadata": {
      "needs_background": "light"
     },
     "output_type": "display_data"
    }
   ],
   "source": [
    "sns.heatmap(dataset.corr(),annot=True)"
   ]
  },
  {
   "cell_type": "markdown",
   "metadata": {},
   "source": [
    "# Data Visualization"
   ]
  },
  {
   "cell_type": "markdown",
   "metadata": {},
   "source": [
    "Count-Plot of Status "
   ]
  },
  {
   "cell_type": "code",
   "execution_count": 77,
   "metadata": {
    "collapsed": true
   },
   "outputs": [
    {
     "data": {
      "text/plain": [
       "<matplotlib.axes._subplots.AxesSubplot at 0x1415a3bbc48>"
      ]
     },
     "execution_count": 77,
     "metadata": {},
     "output_type": "execute_result"
    },
    {
     "data": {
      "image/png": "[encoded data removed]",
      "text/plain": [
       "<Figure size 432x288 with 1 Axes>"
      ]
     },
     "metadata": {},
     "output_type": "display_data"
    }
   ],
   "source": [
    "sns.set_style('whitegrid')\n",
    "sns.countplot(dataset['status'])"
   ]
  },
  {
   "cell_type": "markdown",
   "metadata": {},
   "source": [
    "Count-Plot of Status with respect to risk"
   ]
  },
  {
   "cell_type": "code",
   "execution_count": 78,
   "metadata": {
    "collapsed": true
   },
   "outputs": [
    {
     "data": {
      "text/plain": [
       "<matplotlib.axes._subplots.AxesSubplot at 0x1415ce5afc8>"
      ]
     },
     "execution_count": 78,
     "metadata": {},
     "output_type": "execute_result"
    },
    {
     "data": {
      "image/png": "[encoded data removed]",
      "text/plain": [
       "<Figure size 432x288 with 1 Axes>"
      ]
     },
     "metadata": {},
     "output_type": "display_data"
    }
   ],
   "source": [
    "sns.countplot(x='status',hue='risk',data=dataset)"
   ]
  },
  {
   "cell_type": "markdown",
   "metadata": {},
   "source": [
    "Count-Plot of Status with respect to eye"
   ]
  },
  {
   "cell_type": "code",
   "execution_count": 79,
   "metadata": {
    "collapsed": true
   },
   "outputs": [
    {
     "data": {
      "text/plain": [
       "<matplotlib.axes._subplots.AxesSubplot at 0x1415bf89388>"
      ]
     },
     "execution_count": 79,
     "metadata": {},
     "output_type": "execute_result"
    },
    {
     "data": {
      "image/png": "[encoded data removed]",
      "text/plain": [
       "<Figure size 432x288 with 1 Axes>"
      ]
     },
     "metadata": {},
     "output_type": "display_data"
    }
   ],
   "source": [
    "sns.countplot(x='status',hue='eye',data=dataset)"
   ]
  },
  {
   "cell_type": "markdown",
   "metadata": {},
   "source": [
    "Count-Plot of Status with respect to laser"
   ]
  },
  {
   "cell_type": "code",
   "execution_count": 80,
   "metadata": {
    "collapsed": true
   },
   "outputs": [
    {
     "data": {
      "text/plain": [
       "<matplotlib.axes._subplots.AxesSubplot at 0x1415bc46bc8>"
      ]
     },
     "execution_count": 80,
     "metadata": {},
     "output_type": "execute_result"
    },
    {
     "data": {
      "image/png": "[encoded data removed]",
      "text/plain": [
       "<Figure size 432x288 with 1 Axes>"
      ]
     },
     "metadata": {},
     "output_type": "display_data"
    }
   ],
   "source": [
    "sns.countplot(x='status',hue='laser',data=dataset)"
   ]
  },
  {
   "cell_type": "markdown",
   "metadata": {},
   "source": [
    "Count-Plot of Status with respect to trt"
   ]
  },
  {
   "cell_type": "code",
   "execution_count": 81,
   "metadata": {
    "collapsed": true
   },
   "outputs": [
    {
     "data": {
      "text/plain": [
       "<matplotlib.axes._subplots.AxesSubplot at 0x1415aa87448>"
      ]
     },
     "execution_count": 81,
     "metadata": {},
     "output_type": "execute_result"
    },
    {
     "data": {
      "image/png": "[encoded data removed]",
      "text/plain": [
       "<Figure size 432x288 with 1 Axes>"
      ]
     },
     "metadata": {},
     "output_type": "display_data"
    }
   ],
   "source": [
    "sns.countplot(x='status',hue='trt',data=dataset)"
   ]
  },
  {
   "cell_type": "markdown",
   "metadata": {},
   "source": [
    "Age variations"
   ]
  },
  {
   "cell_type": "code",
   "execution_count": 88,
   "metadata": {
    "collapsed": true
   },
   "outputs": [
    {
     "data": {
      "image/png": "[encoded data removed]",
      "text/plain": [
       "<Figure size 432x288 with 1 Axes>"
      ]
     },
     "metadata": {},
     "output_type": "display_data"
    }
   ],
   "source": [
    "sns.set()\n",
    "\n",
    "plt.hist(x='age',data=dataset)\n",
    "plt.xlabel('Age')\n",
    "plt.ylabel('Count')\n",
    "plt.show()"
   ]
  },
  {
   "cell_type": "code",
   "execution_count": 56,
   "metadata": {},
   "outputs": [],
   "source": [
    "x = dataset.iloc[:,2:8].values"
   ]
  },
  {
   "cell_type": "code",
   "execution_count": 57,
   "metadata": {
    "collapsed": true
   },
   "outputs": [
    {
     "data": {
      "text/plain": [
       "array([[ 0.  , 28.  ,  0.  ,  0.  ,  9.  , 46.23],\n",
       "       [ 0.  , 28.  ,  1.  ,  1.  ,  9.  , 46.23],\n",
       "       [ 1.  , 12.  ,  0.  ,  1.  ,  8.  , 42.5 ],\n",
       "       ...,\n",
       "       [ 1.  ,  3.  ,  1.  ,  0.  , 10.  ,  1.43],\n",
       "       [ 0.  , 32.  ,  0.  ,  1.  ,  9.  , 41.93],\n",
       "       [ 0.  , 32.  ,  1.  ,  0.  ,  9.  , 41.93]])"
      ]
     },
     "execution_count": 57,
     "metadata": {},
     "output_type": "execute_result"
    }
   ],
   "source": [
    "x"
   ]
  },
  {
   "cell_type": "code",
   "execution_count": 58,
   "metadata": {},
   "outputs": [],
   "source": [
    "y = dataset.iloc[:,8].values"
   ]
  },
  {
   "cell_type": "code",
   "execution_count": 59,
   "metadata": {
    "collapsed": true
   },
   "outputs": [
    {
     "data": {
      "text/plain": [
       "array([0, 0, 0, 1, 0, 0, 0, 0, 1, 0, 0, 1, 0, 1, 0, 0, 0, 0, 0, 1, 0, 1,\n",
       "       0, 1, 0, 0, 1, 1, 0, 1, 1, 1, 1, 0, 0, 0, 0, 0, 0, 0, 0, 0, 0, 1,\n",
       "       1, 1, 0, 0, 1, 1, 0, 1, 0, 1, 1, 1, 1, 1, 1, 1, 1, 1, 1, 1, 1, 0,\n",
       "       0, 0, 1, 1, 0, 0, 1, 1, 1, 1, 0, 0, 1, 0, 1, 1, 0, 0, 1, 0, 0, 1,\n",
       "       0, 1, 1, 0, 0, 0, 0, 0, 1, 1, 1, 1, 0, 0, 0, 0, 1, 1, 0, 1, 0, 0,\n",
       "       1, 0, 0, 0, 1, 1, 0, 0, 0, 1, 0, 1, 1, 1, 1, 0, 1, 0, 1, 0, 0, 1,\n",
       "       1, 1, 0, 0, 0, 0, 0, 0, 1, 1, 0, 0, 0, 0, 1, 1, 1, 1, 1, 0, 1, 1,\n",
       "       0, 0, 0, 0, 0, 1, 0, 1, 0, 1, 1, 1, 0, 0, 0, 0, 0, 0, 0, 0, 0, 0,\n",
       "       0, 0, 0, 0, 0, 1, 0, 1, 0, 0, 0, 0, 1, 0, 1, 1, 1, 0, 0, 0, 1, 0,\n",
       "       1, 1, 0, 0, 1, 1, 1, 1, 0, 0, 1, 0, 1, 0, 0, 1, 0, 0, 0, 0, 0, 0,\n",
       "       1, 1, 0, 1, 1, 0, 0, 0, 0, 1, 1, 0, 0, 0, 0, 1, 1, 0, 1, 1, 0, 1,\n",
       "       1, 1, 0, 1, 0, 0, 0, 0, 0, 1, 1, 1, 1, 0, 0, 0, 0, 0, 0, 0, 0, 0,\n",
       "       1, 1, 1, 0, 0, 0, 1, 1, 0, 0, 1, 1, 0, 1, 0, 0, 0, 0, 0, 0, 0, 0,\n",
       "       0, 1, 0, 1, 0, 1, 0, 0, 1, 0, 0, 1, 0, 0, 0, 0, 0, 1, 1, 0, 0, 1,\n",
       "       1, 1, 0, 0, 1, 1, 0, 0, 0, 0, 0, 1, 1, 0, 1, 0, 0, 0, 0, 1, 1, 0,\n",
       "       0, 1, 0, 0, 0, 1, 0, 0, 0, 0, 0, 0, 0, 1, 0, 1, 0, 1, 0, 0, 0, 1,\n",
       "       0, 1, 0, 0, 0, 0, 1, 0, 0, 0, 0, 0, 1, 0, 0, 1, 1, 0, 1, 1, 0, 0,\n",
       "       1, 0, 0, 0, 0, 0, 0, 0, 0, 1, 0, 0, 1, 0, 0, 1, 0, 1, 0, 0],\n",
       "      dtype=int64)"
      ]
     },
     "execution_count": 59,
     "metadata": {},
     "output_type": "execute_result"
    }
   ],
   "source": [
    "y"
   ]
  },
  {
   "cell_type": "markdown",
   "metadata": {},
   "source": [
    "Training and Testing Splits"
   ]
  },
  {
   "cell_type": "code",
   "execution_count": 60,
   "metadata": {},
   "outputs": [],
   "source": [
    "from sklearn.model_selection import train_test_split"
   ]
  },
  {
   "cell_type": "code",
   "execution_count": 61,
   "metadata": {},
   "outputs": [],
   "source": [
    "x_train , x_test , y_train , y_test = train_test_split(x,y,test_size=0.25,random_state=0)"
   ]
  },
  {
   "cell_type": "code",
   "execution_count": 62,
   "metadata": {
    "collapsed": true
   },
   "outputs": [
    {
     "data": {
      "text/plain": [
       "array([[ 1.  , 11.  ,  1.  ,  1.  , 12.  , 32.2 ],\n",
       "       [ 0.  , 32.  ,  0.  ,  0.  ,  9.  , 38.73],\n",
       "       [ 0.  , 24.  ,  1.  ,  0.  , 10.  ,  4.27],\n",
       "       ...,\n",
       "       [ 1.  , 14.  ,  1.  ,  0.  ,  9.  , 18.9 ],\n",
       "       [ 1.  ,  1.  ,  1.  ,  1.  , 12.  , 66.2 ],\n",
       "       [ 1.  ,  8.  ,  0.  ,  0.  , 11.  , 46.3 ]])"
      ]
     },
     "execution_count": 62,
     "metadata": {},
     "output_type": "execute_result"
    }
   ],
   "source": [
    "x_train"
   ]
  },
  {
   "cell_type": "code",
   "execution_count": 63,
   "metadata": {
    "collapsed": true
   },
   "outputs": [
    {
     "data": {
      "text/plain": [
       "array([[ 0.  , 32.  ,  1.  ,  0.  , 10.  , 39.77],\n",
       "       [ 1.  , 11.  ,  1.  ,  1.  ,  9.  , 74.93],\n",
       "       [ 1.  , 10.  ,  0.  ,  0.  , 11.  , 22.  ],\n",
       "       [ 1.  ,  5.  ,  1.  ,  1.  , 11.  , 60.93],\n",
       "       [ 0.  , 42.  ,  1.  ,  1.  ,  9.  , 63.87],\n",
       "       [ 0.  , 51.  ,  1.  ,  0.  , 12.  , 42.77],\n",
       "       [ 0.  , 23.  ,  1.  ,  0.  , 10.  , 19.4 ],\n",
       "       [ 0.  , 22.  ,  0.  ,  1.  , 11.  , 63.33],\n",
       "       [ 0.  , 20.  ,  0.  ,  1.  ,  9.  , 65.23],\n",
       "       [ 0.  , 41.  ,  0.  ,  0.  ,  9.  , 14.37],\n",
       "       [ 0.  , 53.  ,  0.  ,  0.  , 12.  ,  1.33],\n",
       "       [ 0.  , 22.  ,  0.  ,  0.  , 11.  , 42.33],\n",
       "       [ 0.  , 44.  ,  1.  ,  0.  , 10.  ,  3.67],\n",
       "       [ 0.  , 32.  ,  1.  ,  0.  ,  9.  , 41.93],\n",
       "       [ 0.  , 28.  ,  0.  ,  1.  ,  9.  , 10.6 ],\n",
       "       [ 1.  , 12.  ,  0.  ,  1.  , 11.  , 38.3 ],\n",
       "       [ 1.  , 15.  ,  0.  ,  0.  , 12.  ,  7.6 ],\n",
       "       [ 0.  , 21.  ,  0.  ,  0.  ,  9.  , 48.3 ],\n",
       "       [ 1.  , 14.  ,  1.  ,  1.  , 12.  , 25.83],\n",
       "       [ 1.  , 13.  ,  0.  ,  0.  , 10.  ,  9.9 ],\n",
       "       [ 0.  , 42.  ,  0.  ,  0.  ,  9.  , 21.1 ],\n",
       "       [ 0.  , 22.  ,  1.  ,  1.  ,  8.  ,  4.1 ],\n",
       "       [ 0.  , 25.  ,  1.  ,  1.  , 10.  , 25.63],\n",
       "       [ 1.  ,  1.  ,  0.  ,  1.  , 10.  ,  2.7 ],\n",
       "       [ 1.  , 14.  ,  0.  ,  0.  ,  9.  , 19.  ],\n",
       "       [ 0.  , 46.  ,  1.  ,  0.  ,  8.  , 57.43],\n",
       "       [ 1.  , 16.  ,  1.  ,  0.  , 10.  , 42.07],\n",
       "       [ 0.  , 46.  ,  0.  ,  0.  ,  9.  , 38.27],\n",
       "       [ 1.  , 13.  ,  0.  ,  0.  ,  8.  , 48.43],\n",
       "       [ 0.  , 38.  ,  1.  ,  1.  ,  9.  , 46.9 ],\n",
       "       [ 0.  , 50.  ,  0.  ,  1.  , 12.  , 67.47],\n",
       "       [ 1.  , 12.  ,  0.  ,  1.  ,  8.  , 29.03],\n",
       "       [ 1.  , 15.  ,  1.  ,  0.  ,  9.  , 58.67],\n",
       "       [ 1.  , 19.  ,  0.  ,  0.  ,  9.  , 53.43],\n",
       "       [ 1.  ,  1.  ,  0.  ,  1.  ,  9.  ,  6.3 ],\n",
       "       [ 0.  , 46.  ,  1.  ,  1.  , 10.  , 38.27],\n",
       "       [ 0.  , 36.  ,  0.  ,  1.  ,  9.  , 60.27],\n",
       "       [ 0.  , 33.  ,  1.  ,  0.  , 10.  ,  2.9 ],\n",
       "       [ 0.  , 50.  ,  0.  ,  0.  ,  9.  ,  1.57],\n",
       "       [ 1.  ,  9.  ,  0.  ,  0.  , 11.  , 20.6 ],\n",
       "       [ 0.  , 28.  ,  1.  ,  1.  ,  9.  , 46.23],\n",
       "       [ 1.  ,  9.  ,  0.  ,  0.  ,  9.  , 67.43],\n",
       "       [ 1.  , 13.  ,  0.  ,  1.  , 10.  ,  1.9 ],\n",
       "       [ 0.  , 20.  ,  1.  ,  1.  ,  9.  , 74.97],\n",
       "       [ 1.  ,  2.  ,  0.  ,  0.  , 12.  ,  4.3 ],\n",
       "       [ 1.  , 10.  ,  0.  ,  0.  , 10.  , 42.17],\n",
       "       [ 0.  , 43.  ,  0.  ,  1.  ,  8.  , 21.57],\n",
       "       [ 0.  , 28.  ,  1.  ,  0.  , 10.  , 10.6 ],\n",
       "       [ 0.  , 50.  ,  1.  ,  0.  , 11.  , 38.57],\n",
       "       [ 0.  , 43.  ,  1.  ,  0.  ,  9.  , 18.43],\n",
       "       [ 1.  , 13.  ,  0.  ,  0.  , 12.  , 13.77],\n",
       "       [ 1.  , 12.  ,  0.  ,  1.  ,  9.  , 65.23],\n",
       "       [ 0.  , 48.  ,  0.  ,  1.  ,  6.  , 30.83],\n",
       "       [ 1.  , 11.  ,  1.  ,  0.  , 10.  ,  1.63],\n",
       "       [ 0.  , 51.  ,  0.  ,  1.  ,  8.  , 54.6 ],\n",
       "       [ 1.  , 18.  ,  1.  ,  1.  , 10.  , 15.83],\n",
       "       [ 0.  , 30.  ,  1.  ,  0.  ,  9.  , 22.2 ],\n",
       "       [ 1.  , 13.  ,  1.  ,  1.  , 10.  , 13.77],\n",
       "       [ 0.  , 33.  ,  0.  ,  1.  ,  9.  , 49.97],\n",
       "       [ 1.  , 14.  ,  0.  ,  0.  ,  9.  , 14.8 ],\n",
       "       [ 1.  , 12.  ,  1.  ,  0.  ,  9.  , 23.17],\n",
       "       [ 1.  ,  8.  ,  1.  ,  1.  , 11.  , 13.57],\n",
       "       [ 1.  , 15.  ,  1.  ,  0.  , 11.  , 10.77],\n",
       "       [ 1.  ,  9.  ,  1.  ,  0.  , 11.  , 42.27],\n",
       "       [ 1.  ,  1.  ,  0.  ,  0.  ,  8.  ,  8.  ],\n",
       "       [ 1.  , 13.  ,  0.  ,  1.  ,  9.  , 10.33],\n",
       "       [ 1.  ,  9.  ,  1.  ,  1.  , 11.  , 20.6 ],\n",
       "       [ 1.  , 11.  ,  1.  ,  1.  , 12.  , 13.33],\n",
       "       [ 0.  , 23.  ,  0.  ,  0.  ,  9.  , 48.53],\n",
       "       [ 0.  , 27.  ,  0.  ,  1.  ,  8.  , 38.07],\n",
       "       [ 0.  , 32.  ,  1.  ,  1.  ,  9.  , 38.73],\n",
       "       [ 0.  , 24.  ,  1.  ,  0.  ,  9.  , 46.27],\n",
       "       [ 0.  , 20.  ,  0.  ,  1.  , 12.  , 46.5 ],\n",
       "       [ 1.  ,  5.  ,  0.  ,  0.  , 10.  , 54.8 ],\n",
       "       [ 0.  , 55.  ,  0.  ,  0.  , 10.  , 13.9 ],\n",
       "       [ 1.  ,  6.  ,  0.  ,  0.  ,  9.  ,  5.33],\n",
       "       [ 0.  , 38.  ,  0.  ,  0.  ,  8.  , 22.  ],\n",
       "       [ 0.  , 53.  ,  1.  ,  1.  , 10.  ,  5.77],\n",
       "       [ 1.  , 15.  ,  0.  ,  1.  ,  9.  ,  1.47],\n",
       "       [ 1.  , 13.  ,  1.  ,  1.  , 12.  , 57.9 ],\n",
       "       [ 1.  ,  5.  ,  1.  ,  0.  ,  6.  , 39.93],\n",
       "       [ 1.  , 10.  ,  1.  ,  0.  ,  9.  , 42.3 ],\n",
       "       [ 0.  , 20.  ,  1.  ,  0.  ,  8.  , 43.7 ],\n",
       "       [ 1.  ,  3.  ,  0.  ,  1.  , 10.  , 45.9 ],\n",
       "       [ 1.  , 10.  ,  0.  ,  0.  , 11.  , 35.53],\n",
       "       [ 1.  , 13.  ,  0.  ,  0.  , 10.  ,  0.3 ],\n",
       "       [ 1.  , 12.  ,  1.  ,  1.  , 12.  , 43.07],\n",
       "       [ 1.  , 10.  ,  0.  ,  1.  ,  9.  , 59.27],\n",
       "       [ 1.  ,  2.  ,  1.  ,  1.  , 12.  , 38.07],\n",
       "       [ 0.  , 30.  ,  0.  ,  0.  ,  9.  , 33.63],\n",
       "       [ 1.  , 11.  ,  0.  ,  0.  , 10.  ,  9.6 ],\n",
       "       [ 1.  ,  7.  ,  1.  ,  1.  , 10.  , 26.2 ],\n",
       "       [ 1.  , 16.  ,  1.  ,  1.  , 10.  ,  1.73],\n",
       "       [ 0.  , 20.  ,  1.  ,  0.  , 12.  , 13.37],\n",
       "       [ 1.  ,  1.  ,  1.  ,  0.  , 10.  , 18.93],\n",
       "       [ 0.  , 26.  ,  0.  ,  1.  ,  8.  , 42.23],\n",
       "       [ 0.  , 40.  ,  1.  ,  1.  , 10.  ,  9.9 ],\n",
       "       [ 0.  , 41.  ,  1.  ,  1.  ,  9.  ,  1.5 ],\n",
       "       [ 0.  , 45.  ,  0.  ,  0.  ,  9.  , 56.57]])"
      ]
     },
     "execution_count": 63,
     "metadata": {},
     "output_type": "execute_result"
    }
   ],
   "source": [
    "x_test"
   ]
  },
  {
   "cell_type": "code",
   "execution_count": 64,
   "metadata": {
    "collapsed": true
   },
   "outputs": [
    {
     "data": {
      "text/plain": [
       "array([0, 0, 1, 0, 1, 0, 1, 0, 1, 1, 1, 0, 0, 0, 0, 0, 0, 0, 1, 1, 0, 1,\n",
       "       0, 0, 0, 0, 0, 0, 0, 0, 0, 1, 0, 1, 0, 1, 1, 0, 0, 0, 1, 0, 0, 0,\n",
       "       0, 0, 0, 0, 0, 0, 1, 0, 1, 0, 1, 0, 0, 0, 0, 1, 0, 1, 0, 1, 0, 0,\n",
       "       1, 0, 0, 0, 1, 1, 1, 0, 0, 1, 0, 1, 0, 1, 1, 1, 0, 1, 0, 1, 0, 1,\n",
       "       1, 1, 0, 1, 0, 0, 0, 1, 0, 0, 0, 0, 0, 1, 0, 0, 0, 0, 0, 0, 0, 0,\n",
       "       0, 0, 0, 0, 0, 0, 1, 0, 1, 0, 0, 0, 1, 1, 0, 0, 1, 0, 1, 1, 1, 0,\n",
       "       1, 1, 0, 1, 0, 1, 1, 0, 0, 1, 1, 0, 0, 0, 0, 1, 0, 1, 1, 0, 0, 0,\n",
       "       0, 0, 1, 1, 1, 0, 0, 1, 1, 0, 0, 0, 0, 0, 0, 0, 0, 1, 0, 1, 0, 0,\n",
       "       1, 0, 0, 1, 0, 1, 0, 0, 1, 0, 0, 1, 0, 1, 1, 0, 0, 1, 1, 0, 0, 1,\n",
       "       1, 0, 0, 0, 0, 0, 0, 1, 0, 1, 0, 1, 0, 0, 0, 1, 0, 0, 1, 1, 0, 0,\n",
       "       1, 1, 1, 0, 0, 0, 0, 0, 1, 1, 1, 0, 0, 0, 0, 1, 0, 0, 1, 0, 1, 0,\n",
       "       1, 0, 0, 1, 1, 0, 0, 1, 1, 1, 0, 0, 0, 0, 0, 1, 0, 1, 0, 1, 0, 1,\n",
       "       0, 1, 1, 1, 1, 0, 0, 1, 0, 0, 0, 0, 0, 0, 0, 0, 0, 1, 0, 1, 1, 0,\n",
       "       0, 0, 0, 1, 0, 1, 0, 0, 0], dtype=int64)"
      ]
     },
     "execution_count": 64,
     "metadata": {},
     "output_type": "execute_result"
    }
   ],
   "source": [
    "y_train"
   ]
  },
  {
   "cell_type": "code",
   "execution_count": 65,
   "metadata": {
    "collapsed": true
   },
   "outputs": [
    {
     "data": {
      "text/plain": [
       "array([0, 0, 1, 0, 0, 0, 1, 0, 0, 0, 1, 1, 1, 0, 0, 0, 1, 1, 0, 1, 1, 1,\n",
       "       1, 1, 1, 0, 0, 0, 1, 0, 0, 0, 0, 0, 1, 0, 0, 1, 1, 0, 0, 0, 1, 0,\n",
       "       1, 1, 0, 0, 1, 1, 1, 0, 1, 1, 0, 0, 1, 1, 0, 1, 0, 1, 0, 0, 0, 1,\n",
       "       0, 1, 0, 0, 0, 1, 0, 0, 1, 1, 1, 1, 0, 0, 0, 0, 1, 0, 1, 1, 0, 0,\n",
       "       0, 1, 1, 1, 1, 1, 1, 0, 1, 1, 0], dtype=int64)"
      ]
     },
     "execution_count": 65,
     "metadata": {},
     "output_type": "execute_result"
    }
   ],
   "source": [
    "y_test"
   ]
  },
  {
   "cell_type": "markdown",
   "metadata": {},
   "source": [
    "Importing Algorithm"
   ]
  },
  {
   "cell_type": "code",
   "execution_count": 66,
   "metadata": {},
   "outputs": [],
   "source": [
    "from sklearn.linear_model import LogisticRegression"
   ]
  },
  {
   "cell_type": "code",
   "execution_count": 67,
   "metadata": {},
   "outputs": [],
   "source": [
    "lr = LogisticRegression()"
   ]
  },
  {
   "cell_type": "code",
   "execution_count": 68,
   "metadata": {},
   "outputs": [
    {
     "data": {
      "text/plain": [
       "LogisticRegression(C=1.0, class_weight=None, dual=False, fit_intercept=True,\n",
       "                   intercept_scaling=1, l1_ratio=None, max_iter=100,\n",
       "                   multi_class='auto', n_jobs=None, penalty='l2',\n",
       "                   random_state=None, solver='lbfgs', tol=0.0001, verbose=0,\n",
       "                   warm_start=False)"
      ]
     },
     "execution_count": 68,
     "metadata": {},
     "output_type": "execute_result"
    }
   ],
   "source": [
    "lr.fit(x_train,y_train)"
   ]
  },
  {
   "cell_type": "code",
   "execution_count": 69,
   "metadata": {
    "collapsed": true
   },
   "outputs": [
    {
     "data": {
      "text/plain": [
       "array([0, 0, 1, 0, 0, 1, 1, 0, 0, 1, 1, 0, 1, 0, 1, 0, 1, 0, 1, 1, 1, 1,\n",
       "       1, 1, 1, 0, 0, 0, 0, 0, 0, 0, 0, 0, 1, 0, 0, 1, 1, 1, 0, 0, 1, 0,\n",
       "       1, 0, 0, 1, 1, 1, 1, 0, 0, 1, 0, 1, 1, 1, 0, 1, 1, 1, 1, 0, 1, 1,\n",
       "       1, 1, 0, 0, 0, 0, 0, 0, 1, 1, 1, 1, 1, 0, 0, 0, 0, 0, 0, 1, 0, 0,\n",
       "       0, 0, 1, 0, 1, 1, 1, 0, 1, 1, 0], dtype=int64)"
      ]
     },
     "execution_count": 69,
     "metadata": {},
     "output_type": "execute_result"
    }
   ],
   "source": [
    "y_pred = lr.predict(x_test)\n",
    "y_pred"
   ]
  },
  {
   "cell_type": "markdown",
   "metadata": {},
   "source": [
    "Checking Accuracy of our model"
   ]
  },
  {
   "cell_type": "code",
   "execution_count": 70,
   "metadata": {},
   "outputs": [],
   "source": [
    "from sklearn.metrics import accuracy_score"
   ]
  },
  {
   "cell_type": "code",
   "execution_count": 71,
   "metadata": {},
   "outputs": [
    {
     "data": {
      "text/plain": [
       "77.77777777777779"
      ]
     },
     "execution_count": 71,
     "metadata": {},
     "output_type": "execute_result"
    }
   ],
   "source": [
    "accuracy_score(y_test,y_pred)*100"
   ]
  },
  {
   "cell_type": "markdown",
   "metadata": {},
   "source": [
    "Testing Model"
   ]
  },
  {
   "cell_type": "code",
   "execution_count": 72,
   "metadata": {},
   "outputs": [
    {
     "data": {
      "text/plain": [
       "array([1], dtype=int64)"
      ]
     },
     "execution_count": 72,
     "metadata": {},
     "output_type": "execute_result"
    }
   ],
   "source": [
    "lr.predict([[1,13,0,0,10,0.30]])"
   ]
  },
  {
   "cell_type": "code",
   "execution_count": 73,
   "metadata": {},
   "outputs": [
    {
     "data": {
      "text/plain": [
       "array([0], dtype=int64)"
      ]
     },
     "execution_count": 73,
     "metadata": {},
     "output_type": "execute_result"
    }
   ],
   "source": [
    "lr.predict([[1,22,1,8,0,46.23]])"
   ]
  }
 ],
 "metadata": {
  "kernelspec": {
   "display_name": "Python 3",
   "language": "python",
   "name": "python3"
  },
  "language_info": {
   "codemirror_mode": {
    "name": "ipython",
    "version": 3
   },
   "file_extension": ".py",
   "mimetype": "text/x-python",
   "name": "python",
   "nbconvert_exporter": "python",
   "pygments_lexer": "ipython3",
   "version": "3.7.4"
  }
 },
 "nbformat": 4,
 "nbformat_minor": 2
}
